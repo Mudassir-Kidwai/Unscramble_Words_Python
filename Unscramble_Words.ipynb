{
  "nbformat": 4,
  "nbformat_minor": 0,
  "metadata": {
    "colab": {
      "name": "Untitled0.ipynb",
      "provenance": [],
      "collapsed_sections": []
    },
    "kernelspec": {
      "name": "python3",
      "display_name": "Python 3"
    }
  },
  "cells": [
    {
      "cell_type": "code",
      "metadata": {
        "id": "N1v5VNeHHcL1",
        "colab_type": "code",
        "colab": {}
      },
      "source": [
        "#Problem Statement: \n",
        "\"\"\"Find out all possible valid words that can be formed from a random alpha-string \n",
        "of characters of arbitrary length. For instance, alpha-string APER, contains \n",
        "following valid words: PEAR, REAP, PEA, RAP, PAR, APE, EAR, etc. \n",
        "The system should be able to generate a random string of alpha-characters arbitrary \n",
        "length if no input string is provided.\"\"\""
      ],
      "execution_count": 0,
      "outputs": []
    },
    {
      "cell_type": "code",
      "metadata": {
        "id": "XQCgOuQHHgPq",
        "colab_type": "code",
        "colab": {
          "base_uri": "https://localhost:8080/",
          "height": 34
        },
        "outputId": "98610dde-76cb-4f08-ca19-a3059eb25a39"
      },
      "source": [
        "#Code Logic\n",
        "#Solving it through recursive function\n",
        "\n",
        "def printAllKLength(set, k, List): \n",
        "\tn = len(set) \n",
        "\tprintAllKLengthRec(set,\"\", n, k, List) \n",
        "\n",
        "def printAllKLengthRec(set, prefix, n, k, List): \n",
        "# Check if k is the least, then append and return the list\n",
        "\tif (k == 0) : \n",
        "\t\tList.append(prefix) \n",
        "\t\treturn List\n",
        "\n",
        "#Add the prefix to newPrefix for further recursion\n",
        "\tfor i in range(n): \n",
        "\t\tnewPrefix = prefix + set[i] \n",
        "\t\tprintAllKLengthRec(set, newPrefix, n, k - 1, List)\n",
        "\n",
        "if __name__ == \"__main__\": \n",
        "\tset1 = list(input(\"ENTER INPUT:\").lower())\n",
        "\tListP = []\n",
        "\tfor i in range(0, len(set1)):\n",
        "\t\tprintAllKLength(set1, i+1, ListP)\n"
      ],
      "execution_count": 12,
      "outputs": [
        {
          "output_type": "stream",
          "text": [
            "ENTER INPUT:act\n"
          ],
          "name": "stdout"
        }
      ]
    },
    {
      "cell_type": "code",
      "metadata": {
        "id": "AlojIdcyHg6y",
        "colab_type": "code",
        "colab": {
          "base_uri": "https://localhost:8080/",
          "height": 34
        },
        "outputId": "a8e26edd-0df6-49b9-bf4a-861af47dc1ce"
      },
      "source": [
        "#dictionary of words that were created through alpha string\n",
        "#Read from the file into List\n",
        "f = open(\"small dictionary.txt\", \"r\")\n",
        "temp = f.read().splitlines()\n",
        "dictionary_words = list(temp)\n",
        "\n",
        "new_list = []\n",
        "for ithValueofList in ListP:\n",
        "  for jthValueofDictionary in dictionary_words:\n",
        "    if(ithValueofList.lower()==jthValueofDictionary.lower()):\n",
        "      new_list.append(ithValueofList)\n",
        "print(new_list)"
      ],
      "execution_count": 13,
      "outputs": [
        {
          "output_type": "stream",
          "text": [
            "['ac', 'acc']\n"
          ],
          "name": "stdout"
        }
      ]
    },
    {
      "cell_type": "code",
      "metadata": {
        "id": "zrTBrjsMHlT0",
        "colab_type": "code",
        "colab": {}
      },
      "source": [
        ""
      ],
      "execution_count": 0,
      "outputs": []
    }
  ]
}